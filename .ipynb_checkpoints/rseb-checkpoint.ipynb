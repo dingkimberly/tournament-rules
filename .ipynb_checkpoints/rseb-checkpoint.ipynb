{
 "cells": [
  {
   "cell_type": "code",
   "execution_count": 5,
   "metadata": {},
   "outputs": [],
   "source": [
    "from sympy import *\n",
    "from sympy.abc import u, v, e\n",
    "from sympy import init_printing\n",
    "import sympy\n",
    "init_printing() \n",
    "\n",
    "from scipy.special import comb\n",
    "from IPython.display import display"
   ]
  },
  {
   "cell_type": "code",
   "execution_count": 13,
   "metadata": {},
   "outputs": [],
   "source": [
    "def get_prob(n):\n",
    "    if n == 1:\n",
    "        return 0\n",
    "    \n",
    "    prob = 0\n",
    "    \n",
    "    factor = (Rational(1, 2) + e) * Rational(1, 2 ** n - 1)\n",
    "    \n",
    "    for k in range(2, n+1):\n",
    "        \n",
    "        prob += factor * (2 ** (n-k)) * ((Rational(1, 2) + e) ** (k-1) - (Rational(1, 2) - e) ** (k-1))\n",
    "        \n",
    "        \n",
    "    return prob.expand()"
   ]
  },
  {
   "cell_type": "code",
   "execution_count": 14,
   "metadata": {},
   "outputs": [
    {
     "data": {
      "image/png": "[encoded data removed]",
      "text/latex": [
       "$\\displaystyle 2 e$"
      ],
      "text/plain": [
       "2⋅e"
      ]
     },
     "metadata": {},
     "output_type": "display_data"
    }
   ],
   "source": [
    "k = 2\n",
    "display(((Rational(1, 2) + e) ** (k-1) - (Rational(1, 2) - e) ** (k-1)).expand())"
   ]
  },
  {
   "cell_type": "code",
   "execution_count": 15,
   "metadata": {},
   "outputs": [
    {
     "name": "stdout",
     "output_type": "stream",
     "text": [
      "2\n"
     ]
    },
    {
     "data": {
      "image/png": "[encoded data removed]",
      "text/latex": [
       "$\\displaystyle \\frac{2 e^{2}}{3} + \\frac{e}{3}$"
      ],
      "text/plain": [
       "   2    \n",
       "2⋅e    e\n",
       "──── + ─\n",
       " 3     3"
      ]
     },
     "metadata": {},
     "output_type": "display_data"
    },
    {
     "name": "stdout",
     "output_type": "stream",
     "text": [
      "3\n"
     ]
    },
    {
     "data": {
      "image/png": "[encoded data removed]",
      "text/latex": [
       "$\\displaystyle \\frac{6 e^{2}}{7} + \\frac{3 e}{7}$"
      ],
      "text/plain": [
       "   2      \n",
       "6⋅e    3⋅e\n",
       "──── + ───\n",
       " 7      7 "
      ]
     },
     "metadata": {},
     "output_type": "display_data"
    },
    {
     "name": "stdout",
     "output_type": "stream",
     "text": [
      "4\n"
     ]
    },
    {
     "data": {
      "image/png": "[encoded data removed]",
      "text/latex": [
       "$\\displaystyle \\frac{2 e^{4}}{15} + \\frac{e^{3}}{15} + \\frac{9 e^{2}}{10} + \\frac{9 e}{20}$"
      ],
      "text/plain": [
       "   4    3      2      \n",
       "2⋅e    e    9⋅e    9⋅e\n",
       "──── + ── + ──── + ───\n",
       " 15    15    10     20"
      ]
     },
     "metadata": {},
     "output_type": "display_data"
    }
   ],
   "source": [
    "n = 5\n",
    "for i in range(2, 5):\n",
    "    print(i)\n",
    "    prob = get_prob(i)\n",
    "    display(prob)\n",
    "    display(prob.evalf(subs={e:'0.5'}))"
   ]
  },
  {
   "cell_type": "code",
   "execution_count": null,
   "metadata": {},
   "outputs": [],
   "source": []
  }
 ],
 "metadata": {
  "kernelspec": {
   "display_name": "Python 3",
   "language": "python",
   "name": "python3"
  },
  "language_info": {
   "codemirror_mode": {
    "name": "ipython",
    "version": 3
   },
   "file_extension": ".py",
   "mimetype": "text/x-python",
   "name": "python",
   "nbconvert_exporter": "python",
   "pygments_lexer": "ipython3",
   "version": "3.7.4"
  }
 },
 "nbformat": 4,
 "nbformat_minor": 2
}
