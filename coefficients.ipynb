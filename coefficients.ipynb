{
 "cells": [
  {
   "cell_type": "code",
   "execution_count": 1,
   "metadata": {},
   "outputs": [],
   "source": [
    "from sympy import *\n",
    "from sympy.abc import u, v\n",
    "from sympy import init_printing\n",
    "init_printing() \n",
    "\n",
    "from scipy.special import comb\n",
    "from IPython.display import display\n",
    "\n",
    "# Note: everything here is eventually multiplied by (1-p), also known as 1/2 + eps"
   ]
  },
  {
   "cell_type": "code",
   "execution_count": 2,
   "metadata": {},
   "outputs": [],
   "source": [
    "# p is prob. of winning single match\n",
    "def get_probs(n, p):\n",
    "    probs = [None for _ in range(n)]\n",
    "    probs[0] = p # this is prob. of winning 2-player game\n",
    "    \n",
    "    for i in range(1, n):\n",
    "        curr_n = i + 2\n",
    "        prob = probs[i-1] * Rational(comb(curr_n-1, 2), comb(curr_n, 2)) \\\n",
    "             + probs[i-1] * p * Rational(curr_n - 1, comb(curr_n, 2))\n",
    "        \n",
    "        probs[i] = prob.expand()\n",
    "        \n",
    "    return probs"
   ]
  },
  {
   "cell_type": "code",
   "execution_count": 3,
   "metadata": {},
   "outputs": [],
   "source": [
    "def get_polys(n, u, v):\n",
    "    polys = [None for _ in range(n)]\n",
    "    polys[0] = Rational(1,3) * u - Rational(1,3) * v\n",
    "    uprobs = get_probs(n, u)\n",
    "    vprobs = get_probs(n, v)\n",
    "    \n",
    "    for i in range(1, n):\n",
    "        curr_n = i + 3\n",
    "        \n",
    "        poly = Rational(1, comb(curr_n, 2)) * (uprobs[curr_n - 3] - vprobs[curr_n - 3]) \\\n",
    "             + Rational(comb(curr_n-2, 2), comb(curr_n, 2)) * polys[i-1] \\\n",
    "             + Rational(n-2, comb(curr_n, 2)) * u * polys[i-1] \\\n",
    "             + Rational(n-2, comb(curr_n, 2)) * v * polys[i-1]\n",
    "         \n",
    "        polys[i] = poly.expand()\n",
    "        \n",
    "    return polys\n",
    "    "
   ]
  },
  {
   "cell_type": "code",
   "execution_count": 4,
   "metadata": {},
   "outputs": [
    {
     "name": "stdout",
     "output_type": "stream",
     "text": [
      "n=3\n",
      "u/3 - v/3\n",
      "\n",
      "n=4\n",
      "5*u^2/18 + u/9 - 5*v^2/18 - v/9\n",
      "\n",
      "n=5\n",
      "7*u^3/60 + u^2*v/12 + u^2/6 - u*v^2/12 + u/20 - 7*v^3/60 - v^2/6 - v/20\n",
      "\n",
      "n=6\n",
      "29*u^4/900 + u^3*v/25 + 8*u^3/75 + u^2*v/15 + 91*u^2/900 - u*v^3/25 - u*v^2/15 + 2*u/75 - 29*v^4/900 - 8*v^3/75 - 91*v^2/900 - 2*v/75\n",
      "\n",
      "n=7\n",
      "127*u^5/18900 + 13*u^4*v/1260 + 389*u^4/9450 + u^3*v^2/175 + 23*u^3*v/525 + 1583*u^3/18900 - u^2*v^3/175 + 97*u^2*v/2100 + 44*u^2/675 - 13*u*v^4/1260 - 23*u*v^3/525 - 97*u*v^2/2100 + u/63 - 127*v^5/18900 - 389*v^4/9450 - 1583*v^3/18900 - 44*v^2/675 - v/63\n",
      "\n"
     ]
    }
   ],
   "source": [
    "polys = get_polys(5, u, v)\n",
    "for i in range(len(polys)):\n",
    "    print(\"n=%d\" % (i+3))\n",
    "    output = str(polys[i])\n",
    "    output = output.replace('**', '^')\n",
    "    print(output)\n",
    "    print()"
   ]
  },
  {
   "cell_type": "code",
   "execution_count": null,
   "metadata": {},
   "outputs": [],
   "source": []
  },
  {
   "cell_type": "code",
   "execution_count": null,
   "metadata": {},
   "outputs": [],
   "source": []
  }
 ],
 "metadata": {
  "kernelspec": {
   "display_name": "Python 3",
   "language": "python",
   "name": "python3"
  },
  "language_info": {
   "codemirror_mode": {
    "name": "ipython",
    "version": 3
   },
   "file_extension": ".py",
   "mimetype": "text/x-python",
   "name": "python",
   "nbconvert_exporter": "python",
   "pygments_lexer": "ipython3",
   "version": "3.7.4"
  }
 },
 "nbformat": 4,
 "nbformat_minor": 2
}
